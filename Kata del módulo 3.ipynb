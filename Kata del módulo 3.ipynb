{
 "cells": [
  {
   "cell_type": "markdown",
   "metadata": {},
   "source": [
    "## Ejercicio - Escribir declaraciones if, else, y elif"
   ]
  },
  {
   "cell_type": "code",
   "execution_count": 1,
   "metadata": {},
   "outputs": [
    {
     "name": "stdout",
     "output_type": "stream",
     "text": [
      "¡Busquen un asteriode!\n"
     ]
    }
   ],
   "source": [
    "velocidad = 49\n",
    "\n",
    "if velocidad > 25:\n",
    "    print(\"¡Busquen un asteriode!\")\n",
    "else:\n",
    "    print(\"No hagan nada\")"
   ]
  },
  {
   "cell_type": "code",
   "execution_count": 2,
   "metadata": {},
   "outputs": [
    {
     "name": "stdout",
     "output_type": "stream",
     "text": [
      "¡No hay nada!\n"
     ]
    }
   ],
   "source": [
    "velocidad = 19\n",
    "\n",
    "if velocidad > 20:\n",
    "    print(\"¡Hay una luz en el cielo!\")\n",
    "elif velocidad == 20:\n",
    "    print(\"¡Hay una luz en el cielo!\")\n",
    "else:\n",
    "    print(\"¡No hay nada!\")"
   ]
  },
  {
   "cell_type": "markdown",
   "metadata": {},
   "source": [
    "## Ejercicio: Uso de operadores and y or"
   ]
  },
  {
   "cell_type": "code",
   "execution_count": 3,
   "metadata": {},
   "outputs": [
    {
     "name": "stdout",
     "output_type": "stream",
     "text": [
      "Hay una luz en el cielo\n"
     ]
    }
   ],
   "source": [
    "velocidad = 25\n",
    "tamano = 50\n",
    "\n",
    "if velocidad > 25 and tamano > 25:\n",
    "    print(\"Busquen un asteroide\")\n",
    "elif velocidad >= 20:\n",
    "    print(\"Hay una luz en el cielo\")\n",
    "elif tamano < 25:\n",
    "    print(\"No hay nada\")\n",
    "else:\n",
    "    print(\"No hay nada\")"
   ]
  }
 ],
 "metadata": {
  "interpreter": {
   "hash": "d373a6adc26a229c2c7b2016ce264c6636cd7db4cb097b04765bf225c02b830d"
  },
  "kernelspec": {
   "display_name": "Python 3.8.6 64-bit",
   "language": "python",
   "name": "python3"
  },
  "language_info": {
   "codemirror_mode": {
    "name": "ipython",
    "version": 3
   },
   "file_extension": ".py",
   "mimetype": "text/x-python",
   "name": "python",
   "nbconvert_exporter": "python",
   "pygments_lexer": "ipython3",
   "version": "3.8.6"
  },
  "orig_nbformat": 4
 },
 "nbformat": 4,
 "nbformat_minor": 2
}
