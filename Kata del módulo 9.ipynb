{
 "cells": [
  {
   "cell_type": "markdown",
   "metadata": {},
   "source": [
    "## Ejercicio 1"
   ]
  },
  {
   "cell_type": "code",
   "execution_count": 113,
   "metadata": {},
   "outputs": [],
   "source": [
    "# Funcion para leer 3 tanques\n",
    "def tanques(tanque_1, tanque_2, tanque_3):\n",
    "    # Promedio\n",
    "    promedio = (tanque_1 + tanque_2 + tanque_3) / 3\n",
    "    return f\"\"\"Reporte:\n",
    "    Tanque_1: {tanque_1}\n",
    "    Tanque_2: {tanque_2}\n",
    "    Tanque_3: {tanque_3}\n",
    "    Promedio: {promedio}\"\"\""
   ]
  },
  {
   "cell_type": "code",
   "execution_count": 114,
   "metadata": {},
   "outputs": [
    {
     "name": "stdout",
     "output_type": "stream",
     "text": [
      "Reporte:\n",
      "    Tanque_1: 20\n",
      "    Tanque_2: 100\n",
      "    Tanque_3: 60\n",
      "    Promedio: 60.0\n"
     ]
    }
   ],
   "source": [
    "# Llamando a la funcion\n",
    "print(tanques(20, 100, 60))"
   ]
  },
  {
   "cell_type": "code",
   "execution_count": 115,
   "metadata": {},
   "outputs": [
    {
     "data": {
      "text/plain": [
       "60.0"
      ]
     },
     "execution_count": 115,
     "metadata": {},
     "output_type": "execute_result"
    }
   ],
   "source": [
    "# Funcion promedio\n",
    "def promedio(valores):\n",
    "    total = sum(valores)\n",
    "    numero_valores = len(valores)\n",
    "    return total / numero_valores\n",
    "\n",
    "promedio([60, 40, 80])"
   ]
  },
  {
   "cell_type": "code",
   "execution_count": 116,
   "metadata": {},
   "outputs": [
    {
     "name": "stdout",
     "output_type": "stream",
     "text": [
      "Reporte:\n",
      "    Tanque_1: 20\n",
      "    Tanque_2: 10\n",
      "    Tanque_3: 50\n",
      "    Promedio: 26.666666666666668\n"
     ]
    }
   ],
   "source": [
    "# Actualizando la función\n",
    "def tanques(tanque_1, tanque_2, tanque_3):\n",
    "    return f\"\"\"Reporte:\n",
    "    Tanque_1: {tanque_1}\n",
    "    Tanque_2: {tanque_2}\n",
    "    Tanque_3: {tanque_3}\n",
    "    Promedio: {promedio([tanque_1, tanque_2, tanque_3])}\"\"\"\n",
    "\n",
    "print(tanques(20,10,50))"
   ]
  },
  {
   "cell_type": "markdown",
   "metadata": {},
   "source": [
    "## Ejercicio 2"
   ]
  },
  {
   "cell_type": "code",
   "execution_count": 117,
   "metadata": {},
   "outputs": [
    {
     "name": "stdout",
     "output_type": "stream",
     "text": [
      "\n",
      "    Nuestro destino: Luna\n",
      "    Tiempo de viaje: 21\n",
      "    Combustible usado: 40\n"
     ]
    }
   ],
   "source": [
    "# Informe de la misión\n",
    "def informe(hora_prelanzamiento, tiempo_vuelo, destino, tanque_externo, tanque_interno):\n",
    "    return f\"\"\"\n",
    "    Nuestro destino: {destino}\n",
    "    Tiempo de viaje: {hora_prelanzamiento + tiempo_vuelo}\n",
    "    Combustible usado: {tanque_externo + tanque_interno}\"\"\"\n",
    "    \n",
    "print(informe(9, 12, 'Luna', 10, 30))"
   ]
  },
  {
   "cell_type": "code",
   "execution_count": 118,
   "metadata": {},
   "outputs": [
    {
     "name": "stdout",
     "output_type": "stream",
     "text": [
      "\n",
      "    Nuestro destino: Luna\n",
      "    Tiempo de viaje: 37 minutos\n",
      "    Combustible usado: 40\n"
     ]
    }
   ],
   "source": [
    "# Nueva función \n",
    "def informe(destino, *minutos, **combustible):\n",
    "    return f\"\"\"\n",
    "    Nuestro destino: {destino}\n",
    "    Tiempo de viaje: {sum(minutos)} minutos\n",
    "    Combustible usado: {sum(combustible.values())}\"\"\"\n",
    "    \n",
    "print(informe('Luna', 10, 15, 12, main=10, external=30))"
   ]
  },
  {
   "cell_type": "code",
   "execution_count": 124,
   "metadata": {},
   "outputs": [
    {
     "name": "stdout",
     "output_type": "stream",
     "text": [
      "\n",
      "    Nuestro destino: Luna\n",
      "    Tiempo de viaje: 36 minutos\n",
      "    Combustible usado: 70main Tanques --> 40 galones external Tanques --> 30 galones \n"
     ]
    }
   ],
   "source": [
    "# Nueva función\n",
    "def informe(destino, *minutos, **combustible):\n",
    "    reporte = f\"\"\"\n",
    "    Nuestro destino: {destino}\n",
    "    Tiempo de viaje: {sum(minutos)} minutos\n",
    "    Combustible usado: {sum(combustible.values())}\"\"\"\n",
    "\n",
    "    for nombre_tanques, galones in combustible.items():\n",
    "        reporte += f\"{nombre_tanques} Tanques --> {galones} galones \"\n",
    "    return reporte\n",
    "\n",
    "print(informe('Luna', 20, 4, 12, main = 40, external = 30))"
   ]
  }
 ],
 "metadata": {
  "interpreter": {
   "hash": "d373a6adc26a229c2c7b2016ce264c6636cd7db4cb097b04765bf225c02b830d"
  },
  "kernelspec": {
   "display_name": "Python 3.8.6 64-bit",
   "language": "python",
   "name": "python3"
  },
  "language_info": {
   "codemirror_mode": {
    "name": "ipython",
    "version": 3
   },
   "file_extension": ".py",
   "mimetype": "text/x-python",
   "name": "python",
   "nbconvert_exporter": "python",
   "pygments_lexer": "ipython3",
   "version": "3.8.6"
  },
  "orig_nbformat": 4
 },
 "nbformat": 4,
 "nbformat_minor": 2
}
